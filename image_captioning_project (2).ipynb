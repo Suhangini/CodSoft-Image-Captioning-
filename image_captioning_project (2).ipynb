{
  "nbformat": 4,
  "nbformat_minor": 0,
  "metadata": {
    "colab": {
      "provenance": []
    },
    "kernelspec": {
      "name": "python3",
      "display_name": "Python 3"
    },
    "language_info": {
      "name": "python"
    }
  },
  "cells": [
    {
      "cell_type": "code",
      "source": [
        "from transformers import BlipProcessor, BlipForConditionalGeneration\n",
        "from PIL import Image\n",
        "\n",
        "processor = BlipProcessor.from_pretrained(\"Salesforce/blip-image-captioning-base\")\n",
        "model = BlipForConditionalGeneration.from_pretrained(\"Salesforce/blip-image-captioning-base\")\n",
        "\n",
        "img_url = \"/content/Sample_Images/img2.jpg\" #this is the local path of img and not the url.\n",
        "\n",
        "image = Image.open(img_url) #open the image directly from the local url\n",
        "\n",
        "inputs = processor(image, return_tensors=\"pt\")\n",
        "out = model.generate(**inputs)\n",
        "print(processor.decode(out[0], skip_special_tokens=True))"
      ],
      "metadata": {
        "collapsed": true,
        "id": "4AD-qRZclLGb",
        "colab": {
          "base_uri": "https://localhost:8080/"
        },
        "outputId": "97a8840d-5087-4588-be78-3894f6064210"
      },
      "execution_count": 17,
      "outputs": [
        {
          "output_type": "stream",
          "name": "stdout",
          "text": [
            "the cast of the upcoming movie\n"
          ]
        }
      ]
    }
  ]
}